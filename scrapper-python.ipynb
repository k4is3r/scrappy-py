{
 "cells": [
  {
   "cell_type": "code",
   "execution_count": 2,
   "metadata": {},
   "outputs": [],
   "source": [
    "import scrapy"
   ]
  },
  {
   "cell_type": "code",
   "execution_count": null,
   "metadata": {},
   "outputs": [],
   "source": [
    "class Spider12(scrapy.Spider):\n",
    "    name = 'spider12'\n",
    "    allowed_domains = ['pagina12.com.ar']\n",
    "    custom_settings = {'FEED_FORMAT':'json'\n",
    "                       'FEED_URI':'resultdados.json'}\n",
    "    \n",
    "    start_urls = ['https://www.pagina12.com.ar/secciones/el-pais',\n",
    "                  'https://www.pagina12.com.ar/secciones/economia',\n",
    "                  'https://www.pagina12.com.ar/secciones/sociedad',\n",
    "                  'https://www.pagina12.com.ar/secciones/cultura-y-espectaculos',\n",
    "                  'https://www.pagina12.com.ar/secciones/ciencia',\n",
    "                  'https://www.pagina12.com.ar/secciones/el-mundo',\n",
    "                  'https://www.pagina12.com.ar/secciones/deportes',\n",
    "                  'https://www.pagina12.com.ar/secciones/contratapa']\n",
    "    def parse(self, response):\n",
    "        # Articulo promocionado\n",
    "        nota_promocinada = response.xpath('//div[@class=\"featured-article__container\"]/h2/a/@href').get()\n",
    "        \n",
    "        if nota_promocionada is not None:\n",
    "            yield response.follow(nota_promocionada, callback=self.parse_nota)\n",
    "        \n",
    "        # listado de notas\n",
    "        notas = response.xpath('//ul[@class=\"article-list\"]//li//a/@href').getall()\n",
    "        for nota in notas:\n",
    "            yield response.follow(nota, callback=self.parse_nota)\n",
    "    \n",
    "    def parse_nota(self, response):\n",
    "        title = response.xpath('//div[@class=\"article-title\"]/text()').get()\n",
    "        date = response.xpath('//span[@pubdate=\"pubdate\"]/@datetime').get()\n",
    "        summary = response.xpath('//div[@class=\"article-summary\"]/text()').get()\n",
    "        prefix = response.xpath('//div[@class=\"article-prefix\"]/text()').get()\n",
    "        media = response.xpath('//div[@class=\"article-main-media-image\"]/@data-src').getall()[-1]\n",
    "        body = \"\\n\\n\".join(response.xpath('//div[@class=\"article-body\"]//@div[@class=\"article-text\"]//p/text()')).get_all()\n",
    "        author = response.xpath('//div[@class=\"article-author\"]//span//a/text()').get()\n",
    "        "
   ]
  }
 ],
 "metadata": {
  "kernelspec": {
   "display_name": "Python 3",
   "language": "python",
   "name": "python3"
  },
  "language_info": {
   "codemirror_mode": {
    "name": "ipython",
    "version": 3
   },
   "file_extension": ".py",
   "mimetype": "text/x-python",
   "name": "python",
   "nbconvert_exporter": "python",
   "pygments_lexer": "ipython3",
   "version": "3.7.3"
  }
 },
 "nbformat": 4,
 "nbformat_minor": 2
}
